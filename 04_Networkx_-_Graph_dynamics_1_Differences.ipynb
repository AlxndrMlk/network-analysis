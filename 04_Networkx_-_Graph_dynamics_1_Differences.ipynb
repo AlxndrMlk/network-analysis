{
 "cells": [
  {
   "cell_type": "code",
   "execution_count": 3,
   "metadata": {},
   "outputs": [],
   "source": [
    "import networkx as nx\n",
    "import numpy as np\n",
    "import pandas as pd\n",
    "\n",
    "import matplotlib.pyplot as plt \n",
    "plt.style.use('ggplot')"
   ]
  },
  {
   "cell_type": "markdown",
   "metadata": {},
   "source": [
    "# Graph dynamics\n",
    "\n",
    "Parts of this notebooks are based on or inspired by [Eric Ma](https://ericmjl.github.io/)'s code from his amazing course:\n",
    "\n",
    "https://campus.datacamp.com/courses/intermediate-network-analysis-in-python/"
   ]
  },
  {
   "cell_type": "markdown",
   "metadata": {},
   "source": [
    "## Create a dynamic dataset"
   ]
  },
  {
   "cell_type": "code",
   "execution_count": 23,
   "metadata": {},
   "outputs": [],
   "source": [
    "senders = list(range(100))\n",
    "reciepients = list(range(100))"
   ]
  },
  {
   "cell_type": "code",
   "execution_count": 30,
   "metadata": {},
   "outputs": [],
   "source": [
    "# Create dates\n",
    "dates = pd.date_range('2020-01-01', '2020-12-01', freq = 'd')"
   ]
  },
  {
   "cell_type": "code",
   "execution_count": 31,
   "metadata": {},
   "outputs": [],
   "source": [
    "rows = []\n",
    "\n",
    "for date in dates:\n",
    "    rows.append((\n",
    "        np.random.choice(senders),\n",
    "        np.random.choice(reciepients),\n",
    "        date.year,\n",
    "        date.month,\n",
    "        date.day\n",
    "    ))"
   ]
  },
  {
   "cell_type": "code",
   "execution_count": 32,
   "metadata": {},
   "outputs": [],
   "source": [
    "df = pd.DataFrame(rows, columns = ['sender', 'recipient', 'year', 'month', 'day'])\n",
    "df.index = dates"
   ]
  },
  {
   "cell_type": "code",
   "execution_count": 33,
   "metadata": {},
   "outputs": [
    {
     "data": {
      "text/html": [
       "<div>\n",
       "<style scoped>\n",
       "    .dataframe tbody tr th:only-of-type {\n",
       "        vertical-align: middle;\n",
       "    }\n",
       "\n",
       "    .dataframe tbody tr th {\n",
       "        vertical-align: top;\n",
       "    }\n",
       "\n",
       "    .dataframe thead th {\n",
       "        text-align: right;\n",
       "    }\n",
       "</style>\n",
       "<table border=\"1\" class=\"dataframe\">\n",
       "  <thead>\n",
       "    <tr style=\"text-align: right;\">\n",
       "      <th></th>\n",
       "      <th>sender</th>\n",
       "      <th>recipient</th>\n",
       "      <th>year</th>\n",
       "      <th>month</th>\n",
       "      <th>day</th>\n",
       "    </tr>\n",
       "  </thead>\n",
       "  <tbody>\n",
       "    <tr>\n",
       "      <th>2020-01-01</th>\n",
       "      <td>4</td>\n",
       "      <td>80</td>\n",
       "      <td>2020</td>\n",
       "      <td>1</td>\n",
       "      <td>1</td>\n",
       "    </tr>\n",
       "    <tr>\n",
       "      <th>2020-01-02</th>\n",
       "      <td>40</td>\n",
       "      <td>7</td>\n",
       "      <td>2020</td>\n",
       "      <td>1</td>\n",
       "      <td>2</td>\n",
       "    </tr>\n",
       "    <tr>\n",
       "      <th>2020-01-03</th>\n",
       "      <td>26</td>\n",
       "      <td>66</td>\n",
       "      <td>2020</td>\n",
       "      <td>1</td>\n",
       "      <td>3</td>\n",
       "    </tr>\n",
       "    <tr>\n",
       "      <th>2020-01-04</th>\n",
       "      <td>17</td>\n",
       "      <td>82</td>\n",
       "      <td>2020</td>\n",
       "      <td>1</td>\n",
       "      <td>4</td>\n",
       "    </tr>\n",
       "    <tr>\n",
       "      <th>2020-01-05</th>\n",
       "      <td>73</td>\n",
       "      <td>84</td>\n",
       "      <td>2020</td>\n",
       "      <td>1</td>\n",
       "      <td>5</td>\n",
       "    </tr>\n",
       "  </tbody>\n",
       "</table>\n",
       "</div>"
      ],
      "text/plain": [
       "            sender  recipient  year  month  day\n",
       "2020-01-01       4         80  2020      1    1\n",
       "2020-01-02      40          7  2020      1    2\n",
       "2020-01-03      26         66  2020      1    3\n",
       "2020-01-04      17         82  2020      1    4\n",
       "2020-01-05      73         84  2020      1    5"
      ]
     },
     "execution_count": 33,
     "metadata": {},
     "output_type": "execute_result"
    }
   ],
   "source": [
    "df.head()"
   ]
  },
  {
   "cell_type": "markdown",
   "metadata": {},
   "source": [
    "## Extract a series of monthly snapshots"
   ]
  },
  {
   "cell_type": "code",
   "execution_count": 34,
   "metadata": {},
   "outputs": [],
   "source": [
    "months = df.month.unique()"
   ]
  },
  {
   "cell_type": "code",
   "execution_count": 35,
   "metadata": {},
   "outputs": [
    {
     "data": {
      "text/plain": [
       "array([ 1,  2,  3,  4,  5,  6,  7,  8,  9, 10, 11, 12], dtype=int64)"
      ]
     },
     "execution_count": 35,
     "metadata": {},
     "output_type": "execute_result"
    }
   ],
   "source": [
    "months"
   ]
  },
  {
   "cell_type": "code",
   "execution_count": 38,
   "metadata": {},
   "outputs": [],
   "source": [
    "# Initialize snapshots list\n",
    "snapshots = []\n",
    "\n",
    "for month in months:\n",
    "    \n",
    "    # Create a blank graph\n",
    "    G = nx.Graph()\n",
    "    \n",
    "    # Get all nodes\n",
    "    G.add_nodes_from(df.sender)      # NOTE: Assuming that nodes are constant over time!!!\n",
    "    G.add_nodes_from(df.recipient)   # In this example `sender` and `recipient` will be most likely the same,\n",
    "                                     # but it doesn't have to be the case in other cases\n",
    "    \n",
    "    # Filter a monthly snapshot\n",
    "    df_monthly = df[df.month == month]\n",
    "    \n",
    "    # Add edges that existed in a given month to the graph\n",
    "    G.add_edges_from(zip(df_monthly.sender, df_monthly.recipient))\n",
    "    \n",
    "    # Add a snapshot graph to the snapshots list\n",
    "    snapshots.append(G)"
   ]
  },
  {
   "cell_type": "markdown",
   "metadata": {},
   "source": [
    "## Analyze edge changes over time"
   ]
  },
  {
   "cell_type": "code",
   "execution_count": 40,
   "metadata": {},
   "outputs": [],
   "source": [
    "edges_added   = []\n",
    "edges_removed = []\n",
    "pct_changes   = []\n",
    "\n",
    "window_size = 1       \n",
    "\n",
    "for i in range(len(snapshots) - window_size):\n",
    "    \n",
    "    # Get snapshots\n",
    "    snapshot_t1 = snapshots[i]\n",
    "    snapshot_t2 = snapshots[i + window_size]\n",
    "        \n",
    "    # Save edge differences (note that `nx.difference()` is non-symmetric)\n",
    "    edges_added.append(nx.difference(snapshot_t2, snapshot_t1))   \n",
    "    edges_removed.append(nx.difference(snapshot_t1, snapshot_t2))\n",
    "    \n",
    "    # Store pct change in number of edges\n",
    "    pct_change = (len(snapshot_t2.edges()) - len(snapshot_t1.edges())) / len(snapshot_t1.edges())\n",
    "    pct_changes.append(pct_change)"
   ]
  },
  {
   "cell_type": "code",
   "execution_count": 42,
   "metadata": {},
   "outputs": [
    {
     "data": {
      "image/png": "[encoded data removed]",
      "text/plain": [
       "<Figure size 432x288 with 1 Axes>"
      ]
     },
     "metadata": {},
     "output_type": "display_data"
    }
   ],
   "source": [
    "# Plot pct_changes\n",
    "plt.plot(pct_changes)\n",
    "plt.show()"
   ]
  },
  {
   "cell_type": "markdown",
   "metadata": {},
   "source": [
    "As our graph is random we do not expect any significant changes. A severe drop in the last month is caused by the fact that we only have data for one day in the last month, so - in fact - the comparison is not fair. "
   ]
  },
  {
   "cell_type": "code",
   "execution_count": null,
   "metadata": {},
   "outputs": [],
   "source": []
  }
 ],
 "metadata": {
  "kernelspec": {
   "display_name": "Python 3",
   "language": "python",
   "name": "python3"
  },
  "language_info": {
   "codemirror_mode": {
    "name": "ipython",
    "version": 3
   },
   "file_extension": ".py",
   "mimetype": "text/x-python",
   "name": "python",
   "nbconvert_exporter": "python",
   "pygments_lexer": "ipython3",
   "version": "3.8.5"
  }
 },
 "nbformat": 4,
 "nbformat_minor": 4
}
